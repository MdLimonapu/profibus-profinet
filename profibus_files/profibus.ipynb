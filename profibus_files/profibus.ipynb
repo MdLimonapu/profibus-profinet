{
  "nbformat": 4,
  "nbformat_minor": 0,
  "metadata": {
    "colab": {
      "provenance": []
    },
    "kernelspec": {
      "name": "python3",
      "display_name": "Python 3"
    },
    "language_info": {
      "name": "python"
    }
  },
  "cells": [
    {
      "cell_type": "code",
      "execution_count": 1,
      "metadata": {
        "colab": {
          "base_uri": "https://localhost:8080/"
        },
        "id": "wL5tZSFgwf6u",
        "outputId": "cd5c9567-5bfa-4ce0-b58c-0405d80d02e0"
      },
      "outputs": [
        {
          "output_type": "stream",
          "name": "stdout",
          "text": [
            "Response from slave 1: Hello, master 1!\n",
            "Response from slave 2: Hello, master 2!\n",
            "Response from slave 3: Hello, master 3!\n",
            "Response from slave 4: Hello, master 4!\n",
            "Response from slave 5: Hello, master 5!\n"
          ]
        }
      ],
      "source": [
        "import time\n",
        "\n",
        "# Simulated PROFIBUS Slave\n",
        "class PROFIBUSSlave:\n",
        "    def __init__(self, address):\n",
        "        self.address = address\n",
        "\n",
        "    def process_request(self, request_data):\n",
        "        # Simulated response based on the request\n",
        "        if request_data == b\"Hello, slave!\":\n",
        "            return \"Hello, master {}!\".format(self.address).encode()\n",
        "        else:\n",
        "            return b\"Unknown request!\"\n",
        "\n",
        "# Simulated PROFIBUS Master\n",
        "class PROFIBUSMaster:\n",
        "    def __init__(self, slaves):\n",
        "        self.slaves = slaves\n",
        "\n",
        "    def send_request(self, request_data):\n",
        "        responses = []\n",
        "        for slave in self.slaves:\n",
        "            response = slave.process_request(request_data)\n",
        "            responses.append(response)\n",
        "        return responses\n",
        "\n",
        "# Create PROFIBUS slave devices\n",
        "slaves = []\n",
        "for i in range(1, 6):\n",
        "    slave = PROFIBUSSlave(address=i)\n",
        "    slaves.append(slave)\n",
        "\n",
        "# Create a PROFIBUS master device\n",
        "master_device = PROFIBUSMaster(slaves=slaves)\n",
        "\n",
        "# Simulate communication\n",
        "request_data = b\"Hello, slave!\"\n",
        "responses = master_device.send_request(request_data)\n",
        "\n",
        "# Print the responses\n",
        "for i, response in enumerate(responses):\n",
        "    print(\"Response from slave {}: {}\".format(i + 1, response.decode()))\n"
      ]
    }
  ]
}